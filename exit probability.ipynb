{
 "cells": [
  {
   "cell_type": "code",
   "execution_count": 28,
   "metadata": {},
   "outputs": [
    {
     "data": {
      "text/plain": [
       "(0.503, 0.497)"
      ]
     },
     "execution_count": 28,
     "metadata": {},
     "output_type": "execute_result"
    }
   ],
   "source": [
    "import numpy as np\n",
    "import pandas as pd \n",
    "\n",
    "def probescape(upper, lower, nsim):\n",
    "    nupper = 0\n",
    "    nlower = 0\n",
    "    for i in range(nsim) :\n",
    "        b=0\n",
    "        while b < upper and b > lower : \n",
    "            if np.random.uniform(0,1)>1/2 :\n",
    "                b=b+1\n",
    "            else :\n",
    "                b=b-1\n",
    "        if b == upper :\n",
    "            nupper = nupper + 1\n",
    "        else :\n",
    "            nlower = nlower + 1 \n",
    "    return nlower/(nlower+nupper) , nupper/(nlower+nupper)            \n",
    "probescape(5,-5,1000)"
   ]
  },
  {
   "cell_type": "code",
   "execution_count": 29,
   "metadata": {},
   "outputs": [
    {
     "data": {
      "text/plain": [
       "0.7878435371841841"
      ]
     },
     "execution_count": 29,
     "metadata": {},
     "output_type": "execute_result"
    }
   ],
   "source": [
    "np.random.uniform(0,1)"
   ]
  },
  {
   "cell_type": "code",
   "execution_count": null,
   "metadata": {},
   "outputs": [],
   "source": []
  }
 ],
 "metadata": {
  "kernelspec": {
   "display_name": "Python 3",
   "language": "python",
   "name": "python3"
  },
  "language_info": {
   "codemirror_mode": {
    "name": "ipython",
    "version": 3
   },
   "file_extension": ".py",
   "mimetype": "text/x-python",
   "name": "python",
   "nbconvert_exporter": "python",
   "pygments_lexer": "ipython3",
   "version": "3.6.5"
  }
 },
 "nbformat": 4,
 "nbformat_minor": 2
}
