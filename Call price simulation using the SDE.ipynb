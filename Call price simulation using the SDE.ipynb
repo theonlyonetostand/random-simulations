{
 "cells": [
  {
   "cell_type": "markdown",
   "metadata": {},
   "source": [
    "Call option simulation"
   ]
  },
  {
   "cell_type": "code",
   "execution_count": 138,
   "metadata": {},
   "outputs": [],
   "source": [
    "import numpy as np\n",
    "import matplotlib.pyplot as plt\n",
    "from scipy.stats import norm\n",
    "strike_price = 10\n",
    "interest_rate = 0.05\n",
    "volatility = 0.25\n",
    "spot_time = 0.5\n",
    "nsim = 10000\n",
    "initial_value = 12\n",
    "step_size = 0.01"
   ]
  },
  {
   "cell_type": "code",
   "execution_count": 139,
   "metadata": {},
   "outputs": [],
   "source": [
    "def stock_sim(volatility, spot_time, initial_value, interest_rate, step_size):\n",
    "    stock_price = np.zeros(int(spot_time/step_size) + 1)\n",
    "    stock_price[0] = initial_value\n",
    "    for i in range(int(spot_time/step_size)):\n",
    "        stock_price[i+1] = stock_price[i] + step_size*stock_price[i]*(interest_rate+volatility*np.random.normal(loc=0,scale=1))\n",
    "    return stock_price\n",
    "        \n",
    "        "
   ]
  },
  {
   "cell_type": "code",
   "execution_count": 140,
   "metadata": {},
   "outputs": [
    {
     "data": {
      "text/plain": [
       "[<matplotlib.lines.Line2D at 0x11f0b9550>]"
      ]
     },
     "execution_count": 140,
     "metadata": {},
     "output_type": "execute_result"
    },
    {
     "data": {
      "image/png": "[encoded data removed]",
      "text/plain": [
       "<Figure size 432x288 with 1 Axes>"
      ]
     },
     "metadata": {},
     "output_type": "display_data"
    }
   ],
   "source": [
    "Y = stock_sim(volatility=volatility,spot_time=spot_time,initial_value=initial_value,interest_rate=interest_rate,step_size=step_size)\n",
    "X = x = np.linspace(start=0,stop=spot_time,endpoint=True,num=int(spot_time/step_size)+1)\n",
    "plt.plot(X,Y)"
   ]
  },
  {
   "cell_type": "code",
   "execution_count": 141,
   "metadata": {},
   "outputs": [
    {
     "data": {
      "text/plain": [
       "2.3640392984048115"
      ]
     },
     "execution_count": 141,
     "metadata": {},
     "output_type": "execute_result"
    }
   ],
   "source": [
    "call_price = 0\n",
    "for i in range(nsim) :\n",
    "    stock_price = stock_sim(volatility=volatility,spot_time=spot_time,initial_value=initial_value,interest_rate=interest_rate,step_size=step_size)\n",
    "    call_price = call_price + np.exp(interest_rate*spot_time)*max(stock_price[int(spot_time/step_size)]-strike_price,0)\n",
    "call_price = call_price/nsim\n",
    "call_price"
   ]
  },
  {
   "cell_type": "markdown",
   "metadata": {},
   "source": [
    "With the black-scholes-merton formula:"
   ]
  },
  {
   "cell_type": "code",
   "execution_count": 142,
   "metadata": {},
   "outputs": [],
   "source": [
    "def black_scholes(volatility, spot_time, initial_value, interest_rate, strike_price ) :\n",
    "    d_1 = (np.log(initial_value/strike_price) + (interest_rate + 1/2*volatility**2)*spot_time)/(volatility*np.sqrt(spot_time))\n",
    "    d_2 = (np.log(initial_value/strike_price) + (interest_rate - 1/2*volatility**2)*spot_time)/(volatility*np.sqrt(spot_time))\n",
    "    Call_price = initial_value*norm.cdf(d_1) - strike_price*np.exp(interest_rate*spot_time)*norm.cdf(d_2)\n",
    "    return Call_price\n",
    "    "
   ]
  },
  {
   "cell_type": "code",
   "execution_count": 143,
   "metadata": {},
   "outputs": [
    {
     "data": {
      "text/plain": [
       "1.9295268608803404"
      ]
     },
     "execution_count": 143,
     "metadata": {},
     "output_type": "execute_result"
    }
   ],
   "source": [
    "Call_price=black_scholes(volatility=volatility,spot_time=spot_time,initial_value=initial_value,interest_rate=interest_rate, strike_price = strike_price)\n",
    "Call_price"
   ]
  },
  {
   "cell_type": "code",
   "execution_count": null,
   "metadata": {},
   "outputs": [],
   "source": []
  }
 ],
 "metadata": {
  "kernelspec": {
   "display_name": "Python 3",
   "language": "python",
   "name": "python3"
  },
  "language_info": {
   "codemirror_mode": {
    "name": "ipython",
    "version": 3
   },
   "file_extension": ".py",
   "mimetype": "text/x-python",
   "name": "python",
   "nbconvert_exporter": "python",
   "pygments_lexer": "ipython3",
   "version": "3.6.5"
  }
 },
 "nbformat": 4,
 "nbformat_minor": 2
}
